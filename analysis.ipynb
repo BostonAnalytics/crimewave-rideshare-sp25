{
 "cells": [
  {
   "cell_type": "raw",
   "metadata": {
    "vscode": {
     "languageId": "raw"
    }
   },
   "source": [
    "---\n",
    "title: \"Untitled\"\n",
    "---"
   ]
  },
  {
   "cell_type": "markdown",
   "metadata": {
    "vscode": {
     "languageId": "plaintext"
    }
   },
   "source": [
    "# Use spark or Pandas to load the data\n",
    "## Spark Option"
   ]
  },
  {
   "cell_type": "code",
   "execution_count": null,
   "metadata": {},
   "outputs": [
    {
     "name": "stdout",
     "output_type": "stream",
     "text": [
      "+--------------------+--------------------+--------------------+------------+----------+--------------------+------------------------+-------------------+--------------------+---------------------+----------------------+----+---+------------------+------------------+----------------------+-----------------+------------+------------------------+-------------------------+------------------------+-------------------------+--------------------------+-------------------------+----+-----------+----+-----+----+------------+-----------+--------------------+------+--------+----+--------+----+--------------+--------+------------+------------+----+----------+--------+---------+--------+-------+--------------------+------------------+------------+----------+--------------------+------------------------+-------------------+--------------------+---------------------+----------------------+----+----+------------------+----------+----------------------+-----------------+------------+------------------------+-------------------------+------------------------+-------------------------+--------------------------+-------------------------+\n",
      "|             trip_id|trip_start_timestamp|  trip_end_timestamp|trip_seconds|trip_miles|percent_time_chicago|percent_distance_chicago|pickup_census_tract|dropoff_census_tract|pickup_community_area|dropoff_community_area|fare|tip|additional_charges|        trip_total|shared_trip_authorized|shared_trip_match|trips_pooled|pickup_centroid_latitude|pickup_centroid_longitude|pickup_centroid_location|dropoff_centroid_latitude|dropoff_centroid_longitude|dropoff_centroid_location|  ID|Case Number|Date|Block|IUCR|Primary Type|Description|Location Description|Arrest|Domestic|Beat|District|Ward|Community Area|FBI Code|X Coordinate|Y Coordinate|Year|Updated On|Latitude|Longitude|Location|Trip ID|Trip Start Timestamp|Trip End Timestamp|Trip Seconds|Trip Miles|Percent Time Chicago|Percent Distance Chicago|Pickup Census Tract|Dropoff Census Tract|Pickup Community Area|Dropoff Community Area|Fare| Tip|Additional Charges|Trip Total|Shared Trip Authorized|Shared Trip Match|Trips Pooled|Pickup Centroid Latitude|Pickup Centroid Longitude|Pickup Centroid Location|Dropoff Centroid Latitude|Dropoff Centroid Longitude|Dropoff Centroid Location|\n",
      "+--------------------+--------------------+--------------------+------------+----------+--------------------+------------------------+-------------------+--------------------+---------------------+----------------------+----+---+------------------+------------------+----------------------+-----------------+------------+------------------------+-------------------------+------------------------+-------------------------+--------------------------+-------------------------+----+-----------+----+-----+----+------------+-----------+--------------------+------+--------+----+--------+----+--------------+--------+------------+------------+----+----------+--------+---------+--------+-------+--------------------+------------------+------------+----------+--------------------+------------------------+-------------------+--------------------+---------------------+----------------------+----+----+------------------+----------+----------------------+-----------------+------------+------------------------+-------------------------+------------------------+-------------------------+--------------------------+-------------------------+\n",
      "|ffe8bda02ff3750be...|2024-12-31T23:45:...|2025-01-01T00:00:...|         476|    2.8856|                   1|                 0.99113|        17031836200|         17031835900|                   41|                    38| 7.5|  0|              3.13|10.629999999999999|                 false|            false|           1|           41.7904693995|           -87.6012851221|    {[-87.6012851221,...|            41.8201666062|             -87.621499206|     {[-87.621499206, ...|NULL|       NULL|NULL| NULL|NULL|        NULL|       NULL|                NULL|  NULL|    NULL|NULL|    NULL|NULL|          NULL|    NULL|        NULL|        NULL|NULL|      NULL|    NULL|     NULL|    NULL|   NULL|                NULL|              NULL|        NULL|      NULL|                NULL|                    NULL|               NULL|                NULL|                 NULL|                  NULL|NULL|NULL|              NULL|      NULL|                  NULL|             NULL|        NULL|                    NULL|                     NULL|                    NULL|                     NULL|                      NULL|                     NULL|\n",
      "|ff9c431ab857adb35...|2024-12-31T23:45:...|2025-01-01T00:00:...|         817|    2.8143|              0.9988|                  0.9995|        17031241600|         17031080100|                   24|                     8| 7.5|  0|              4.46|             11.96|                 false|            false|           1|           41.9066507664|           -87.6653376596|    {[-87.6653376596,...|            41.9075200747|            -87.6266589003|     {[-87.6266589003,...|NULL|       NULL|NULL| NULL|NULL|        NULL|       NULL|                NULL|  NULL|    NULL|NULL|    NULL|NULL|          NULL|    NULL|        NULL|        NULL|NULL|      NULL|    NULL|     NULL|    NULL|   NULL|                NULL|              NULL|        NULL|      NULL|                NULL|                    NULL|               NULL|                NULL|                 NULL|                  NULL|NULL|NULL|              NULL|      NULL|                  NULL|             NULL|        NULL|                    NULL|                     NULL|                    NULL|                     NULL|                      NULL|                     NULL|\n",
      "|ff892eb7f1ec557c7...|2024-12-31T23:45:...|2025-01-01T00:00:...|         710|    4.3527|              0.5099|                 0.40639|        17031251900|         17031816000|                   25|                  NULL| 7.5|  0|              3.75|             11.25|                 false|            false|           1|           41.8837934871|           -87.7600980476|    {[-87.7600980476,...|                     NULL|                      NULL|                     NULL|NULL|       NULL|NULL| NULL|NULL|        NULL|       NULL|                NULL|  NULL|    NULL|NULL|    NULL|NULL|          NULL|    NULL|        NULL|        NULL|NULL|      NULL|    NULL|     NULL|    NULL|   NULL|                NULL|              NULL|        NULL|      NULL|                NULL|                    NULL|               NULL|                NULL|                 NULL|                  NULL|NULL|NULL|              NULL|      NULL|                  NULL|             NULL|        NULL|                    NULL|                     NULL|                    NULL|                     NULL|                      NULL|                     NULL|\n",
      "|ff88ea99035af5dde...|2024-12-31T23:45:...|2025-01-01T00:00:...|         619|    1.7332|              0.9725|                       1|        17031834300|         17031834300|                   45|                    45| 7.5|  0|              4.29|             11.79|                 false|            false|           1|           41.7458424102|           -87.5917077725|    {[-87.5917077725,...|            41.7458424102|            -87.5917077725|     {[-87.5917077725,...|NULL|       NULL|NULL| NULL|NULL|        NULL|       NULL|                NULL|  NULL|    NULL|NULL|    NULL|NULL|          NULL|    NULL|        NULL|        NULL|NULL|      NULL|    NULL|     NULL|    NULL|   NULL|                NULL|              NULL|        NULL|      NULL|                NULL|                    NULL|               NULL|                NULL|                 NULL|                  NULL|NULL|NULL|              NULL|      NULL|                  NULL|             NULL|        NULL|                    NULL|                     NULL|                    NULL|                     NULL|                      NULL|                     NULL|\n",
      "|ff6dd31b07238729e...|2024-12-31T23:45:...|2025-01-01T00:00:...|         775|    0.2249|              0.9987|                       1|        17031081700|         17031081700|                    8|                     8| 7.5|  0|              2.62|10.120000000000001|                 false|            false|           1|           41.8920421365|           -87.6318639497|    {[-87.6318639497,...|            41.8920421365|            -87.6318639497|     {[-87.6318639497,...|NULL|       NULL|NULL| NULL|NULL|        NULL|       NULL|                NULL|  NULL|    NULL|NULL|    NULL|NULL|          NULL|    NULL|        NULL|        NULL|NULL|      NULL|    NULL|     NULL|    NULL|   NULL|                NULL|              NULL|        NULL|      NULL|                NULL|                    NULL|               NULL|                NULL|                 NULL|                  NULL|NULL|NULL|              NULL|      NULL|                  NULL|             NULL|        NULL|                    NULL|                     NULL|                    NULL|                     NULL|                      NULL|                     NULL|\n",
      "+--------------------+--------------------+--------------------+------------+----------+--------------------+------------------------+-------------------+--------------------+---------------------+----------------------+----+---+------------------+------------------+----------------------+-----------------+------------+------------------------+-------------------------+------------------------+-------------------------+--------------------------+-------------------------+----+-----------+----+-----+----+------------+-----------+--------------------+------+--------+----+--------+----+--------------+--------+------------+------------+----+----------+--------+---------+--------+-------+--------------------+------------------+------------+----------+--------------------+------------------------+-------------------+--------------------+---------------------+----------------------+----+----+------------------+----------+----------------------+-----------------+------------+------------------------+-------------------------+------------------------+-------------------------+--------------------------+-------------------------+\n",
      "only showing top 5 rows\n",
      "\n"
     ]
    }
   ],
   "source": [
    "from pyspark.sql import SparkSession\n",
    "from pyspark.sql.functions import col\n",
    "\n",
    "# Initialize Spark Session\n",
    "spark = SparkSession.builder.appName(\"CrimeAwareRideshare\").getOrCreate()\n",
    "spark.conf.set('spark.sql.caseSensitive', \"true\")\n",
    "\n",
    "# Load datasets\n",
    "tnp_df = spark.read.parquet(\"data/rideshare_data.parquet\")\n",
    "crime_df = spark.read.parquet(\"data/crime_data.parquet\")\n",
    "\n",
    "# # Check for duplicate column names in tnp_df\n",
    "# duplicate_columns = [col for col in tnp_df.columns if tnp_df.columns.count(col) > 1]\n",
    "\n",
    "# # Rename duplicate columns\n",
    "# for column in duplicate_columns:\n",
    "#     tnp_df = tnp_df.withColumnRenamed(column, f\"tnp_{column}\")\n",
    "\n",
    "# Show sample data\n",
    "tnp_df.show(5)\n",
    "crime_df.show(5)"
   ]
  },
  {
   "cell_type": "code",
   "execution_count": null,
   "metadata": {},
   "outputs": [],
   "source": []
  }
 ],
 "metadata": {
  "kernelspec": {
   "display_name": ".venv",
   "language": "python",
   "name": "python3"
  },
  "language_info": {
   "codemirror_mode": {
    "name": "ipython",
    "version": 3
   },
   "file_extension": ".py",
   "mimetype": "text/x-python",
   "name": "python",
   "nbconvert_exporter": "python",
   "pygments_lexer": "ipython3",
   "version": "3.11.9"
  }
 },
 "nbformat": 4,
 "nbformat_minor": 2
}
